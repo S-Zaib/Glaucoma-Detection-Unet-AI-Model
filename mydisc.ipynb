{
 "cells": [
  {
   "cell_type": "code",
   "execution_count": 5,
   "metadata": {},
   "outputs": [],
   "source": [
    "import imgaug.augmenters as iaa\n",
    "import numpy as np\n",
    "import cv2\n",
    "import os"
   ]
  },
  {
   "cell_type": "code",
   "execution_count": 1,
   "metadata": {},
   "outputs": [
    {
     "name": "stdout",
     "output_type": "stream",
     "text": [
      "Num GPUs Available:  1\n"
     ]
    }
   ],
   "source": [
    "import tensorflow as tf\n",
    "# Check if GPU is available\n",
    "print(\"Num GPUs Available: \", len(tf.config.list_physical_devices('GPU')))"
   ]
  },
  {
   "cell_type": "code",
   "execution_count": 2,
   "metadata": {},
   "outputs": [],
   "source": [
    "# Paths to the images and masks\n",
    "images_folder_path = 'input'\n",
    "masks_folder_path = 'output'"
   ]
  },
  {
   "cell_type": "code",
   "execution_count": 6,
   "metadata": {},
   "outputs": [],
   "source": [
    "# Load the images and masks\n",
    "def load_images(image_path, mask_path):\n",
    "    images, masks, fnames = [], [], []\n",
    "    for image_name in sorted(os.listdir(image_path)):\n",
    "        image = cv2.imread(os.path.join(image_path, image_name))\n",
    "        # Resize the image to 256x256\n",
    "        image = cv2.resize(image, (256, 256))\n",
    "        # Load the mask\n",
    "        mask_name = image_name.replace(\".png\", \".tif\")\n",
    "        mask = cv2.imread(os.path.join(mask_path, mask_name))\n",
    "        # Resize the mask to 256x256\n",
    "        mask = cv2.resize(mask, (256, 256))\n",
    "        images.append(image)\n",
    "        masks.append(mask)\n",
    "        fnames.append(image_name)\n",
    "    return images, masks, fnames"
   ]
  },
  {
   "cell_type": "code",
   "execution_count": 7,
   "metadata": {},
   "outputs": [],
   "source": [
    "def augmentation_fn(image, mask, training=True):\n",
    "    img_aug = image.copy()\n",
    "    mask_aug = mask.copy()\n",
    "\n",
    "    if training:\n",
    "        # randomly change the brightness\n",
    "        img_aug = tf.image.random_brightness(img_aug, 0.1)\n",
    "        # randomly change the hue\n",
    "        img_aug = tf.image.random_hue(img_aug, 0.1)\n",
    "\n",
    "        # randomly flip the image horizontally\n",
    "        if np.random.rand() > 0.5:\n",
    "            img_aug = tf.image.flip_left_right(img_aug)\n",
    "            mask_aug = tf.image.flip_left_right(mask_aug)\n",
    "\n",
    "        # randomly flip the image vertically\n",
    "        if np.random.rand() > 0.5:\n",
    "            img_aug = tf.image.flip_up_down(img_aug)\n",
    "            mask_aug = tf.image.flip_up_down(mask_aug)\n",
    "\n",
    "\n",
    "    # Normalization factor for scaling images\n",
    "    normalization_factor = 122.5\n",
    "\n",
    "    # Resize and normalize the image to the range [-1, 1]\n",
    "    image_resized_normalized = (tf.image.resize(image, (128, 128)) / normalization_factor) - 1.0\n",
    "\n",
    "    # Resize the mask and apply a threshold to create a binary mask\n",
    "    mask_resized = tf.image.resize(mask, (128, 128))\n",
    "    mask_resized_binary = tf.cast(mask_resized > normalization_factor, tf.float32)\n",
    "\n",
    "    # Ensure mask has the correct shape by adding a channel dimension\n",
    "    mask_final = mask_resized_binary[:, :, :1]\n",
    "\n",
    "    return image_resized_normalized, mask_final"
   ]
  },
  {
   "cell_type": "code",
   "execution_count": null,
   "metadata": {},
   "outputs": [],
   "source": []
  }
 ],
 "metadata": {
  "kernelspec": {
   "display_name": "tf-gpu",
   "language": "python",
   "name": "python3"
  },
  "language_info": {
   "codemirror_mode": {
    "name": "ipython",
    "version": 3
   },
   "file_extension": ".py",
   "mimetype": "text/x-python",
   "name": "python",
   "nbconvert_exporter": "python",
   "pygments_lexer": "ipython3",
   "version": "3.9.19"
  }
 },
 "nbformat": 4,
 "nbformat_minor": 2
}
